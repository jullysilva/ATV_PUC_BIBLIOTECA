{
 "cells": [
  {
   "cell_type": "code",
   "execution_count": 1,
   "id": "55ad4ebc",
   "metadata": {},
   "outputs": [],
   "source": [
    "# para criar o arquivo de libs \n",
    "\n",
    "#!pip3 freeze > requirements.txt "
   ]
  },
  {
   "cell_type": "code",
   "execution_count": 2,
   "id": "b57bd5fc",
   "metadata": {},
   "outputs": [
    {
     "name": "stdout",
     "output_type": "stream",
     "text": [
      "Requirement already satisfied: async-generator==1.10 in c:\\python311\\lib\\site-packages (from -r requirements.txt (line 1)) (1.10)\n",
      "Collecting attrs==21.4.0\n",
      "  Using cached attrs-21.4.0-py2.py3-none-any.whl (60 kB)\n",
      "Collecting certifi==2021.10.8\n",
      "  Using cached certifi-2021.10.8-py2.py3-none-any.whl (149 kB)\n",
      "Collecting cffi==1.15.0\n",
      "  Using cached cffi-1.15.0.tar.gz (484 kB)\n",
      "  Preparing metadata (setup.py): started\n",
      "  Preparing metadata (setup.py): finished with status 'error'\n"
     ]
    },
    {
     "name": "stderr",
     "output_type": "stream",
     "text": [
      "  error: subprocess-exited-with-error\n",
      "  \n",
      "  × python setup.py egg_info did not run successfully.\n",
      "  │ exit code: 1\n",
      "  ╰─> [24 lines of output]\n",
      "      Traceback (most recent call last):\n",
      "        File \"<string>\", line 2, in <module>\n",
      "        File \"<pip-setuptools-caller>\", line 34, in <module>\n",
      "        File \"C:\\Users\\DTI Digital\\AppData\\Local\\Temp\\pip-install-5rdj80ok\\cffi_1dc74bae6585424fb4d651985b022143\\setup.py\", line 126, in <module>\n",
      "          if sys.platform == \"win32\" and uses_msvc():\n",
      "                                         ^^^^^^^^^^^\n",
      "        File \"C:\\Users\\DTI Digital\\AppData\\Local\\Temp\\pip-install-5rdj80ok\\cffi_1dc74bae6585424fb4d651985b022143\\setup.py\", line 105, in uses_msvc\n",
      "          return config.try_compile('#ifndef _MSC_VER\\n#error \"not MSVC\"\\n#endif')\n",
      "                 ^^^^^^^^^^^^^^^^^^^^^^^^^^^^^^^^^^^^^^^^^^^^^^^^^^^^^^^^^^^^^^^^^\n",
      "        File \"C:\\Python311\\Lib\\site-packages\\setuptools\\_distutils\\command\\config.py\", line 224, in try_compile\n",
      "          self._compile(body, headers, include_dirs, lang)\n",
      "        File \"C:\\Python311\\Lib\\site-packages\\setuptools\\_distutils\\command\\config.py\", line 129, in _compile\n",
      "          self.compiler.compile([src], include_dirs=include_dirs)\n",
      "        File \"C:\\Python311\\Lib\\site-packages\\setuptools\\_distutils\\_msvccompiler.py\", line 344, in compile\n",
      "          self.initialize()\n",
      "        File \"C:\\Python311\\Lib\\site-packages\\setuptools\\_distutils\\_msvccompiler.py\", line 253, in initialize\n",
      "          vc_env = _get_vc_env(plat_spec)\n",
      "                   ^^^^^^^^^^^^^^^^^^^^^^\n",
      "        File \"C:\\Python311\\Lib\\site-packages\\setuptools\\msvc.py\", line 214, in msvc14_get_vc_env\n",
      "          return _msvc14_get_vc_env(plat_spec)\n",
      "                 ^^^^^^^^^^^^^^^^^^^^^^^^^^^^^\n",
      "        File \"C:\\Python311\\Lib\\site-packages\\setuptools\\msvc.py\", line 168, in _msvc14_get_vc_env\n",
      "          raise distutils.errors.DistutilsPlatformError(\n",
      "      distutils.errors.DistutilsPlatformError: Microsoft Visual C++ 14.0 or greater is required. Get it with \"Microsoft C++ Build Tools\": https://visualstudio.microsoft.com/visual-cpp-build-tools/\n",
      "      [end of output]\n",
      "  \n",
      "  note: This error originates from a subprocess, and is likely not a problem with pip.\n",
      "error: metadata-generation-failed\n",
      "\n",
      "× Encountered error while generating package metadata.\n",
      "╰─> See above for output.\n",
      "\n",
      "note: This is an issue with the package mentioned above, not pip.\n",
      "hint: See above for details.\n"
     ]
    }
   ],
   "source": [
    "#para instalar todas as dependencias do projeto \n",
    "!pip3 install -r requirements.txt"
   ]
  },
  {
   "cell_type": "code",
   "execution_count": 3,
   "id": "2c2ff734",
   "metadata": {},
   "outputs": [
    {
     "name": "stdout",
     "output_type": "stream",
     "text": [
      "Requirement already satisfied: pdfkit in c:\\python311\\lib\\site-packages (1.0.0)\n",
      "Requirement already satisfied: webdriver_manager in c:\\python311\\lib\\site-packages (3.8.5)\n",
      "Requirement already satisfied: requests in c:\\python311\\lib\\site-packages (from webdriver_manager) (2.28.1)\n",
      "Requirement already satisfied: python-dotenv in c:\\python311\\lib\\site-packages (from webdriver_manager) (0.21.0)\n",
      "Requirement already satisfied: tqdm in c:\\python311\\lib\\site-packages (from webdriver_manager) (4.64.1)\n",
      "Requirement already satisfied: packaging in c:\\users\\dti digital\\appdata\\roaming\\python\\python311\\site-packages (from webdriver_manager) (22.0)\n",
      "Requirement already satisfied: charset-normalizer<3,>=2 in c:\\python311\\lib\\site-packages (from requests->webdriver_manager) (2.1.1)\n",
      "Requirement already satisfied: idna<4,>=2.5 in c:\\python311\\lib\\site-packages (from requests->webdriver_manager) (3.4)\n",
      "Requirement already satisfied: urllib3<1.27,>=1.21.1 in c:\\python311\\lib\\site-packages (from requests->webdriver_manager) (1.26.13)\n",
      "Requirement already satisfied: certifi>=2017.4.17 in c:\\python311\\lib\\site-packages (from requests->webdriver_manager) (2022.9.24)\n",
      "Requirement already satisfied: colorama in c:\\users\\dti digital\\appdata\\roaming\\python\\python311\\site-packages (from tqdm->webdriver_manager) (0.4.6)\n"
     ]
    }
   ],
   "source": [
    "#!pip3  install pacote que deseja \n",
    "!pip3 install pdfkit\n",
    "!pip3 install webdriver_manager"
   ]
  },
  {
   "cell_type": "code",
   "execution_count": 4,
   "id": "ae4e6403",
   "metadata": {},
   "outputs": [
    {
     "name": "stderr",
     "output_type": "stream",
     "text": [
      "C:\\Users\\DTI Digital\\AppData\\Local\\Temp\\ipykernel_17348\\1856053738.py:21: DeprecationWarning: executable_path has been deprecated, please pass in a Service object\n",
      "  driver = webdriver.Chrome(ChromeDriverManager().install(), options=options)\n"
     ]
    }
   ],
   "source": [
    "#!/usr/bin/env python\n",
    "# coding: utf-8\n",
    "\n",
    "\n",
    "# para criar o arquivo de libs \n",
    "\n",
    "from selenium import webdriver\n",
    "from time import sleep, time\n",
    "\n",
    "from webdriver_manager.chrome import ChromeDriverManager\n",
    "from selenium.webdriver.common.by import By\n",
    "from selenium.webdriver.support.wait import WebDriverWait\n",
    "from selenium.webdriver.support import expected_conditions as EC\n",
    "\n",
    "import pdfkit\n",
    "\n",
    "\n",
    "options = webdriver.ChromeOptions()\n",
    "options.add_argument(\"start-maximized\")\n",
    "options.add_experimental_option('excludeSwitches', ['enable-logging'])\n",
    "driver = webdriver.Chrome(ChromeDriverManager().install(), options=options)\n",
    "driver.get('http://portal.pucminas.br/biblioteca/index_padrao.php')\n",
    "\n",
    "# Realizar a pesquisa digitando o termo desejado\n",
    "driver.find_element(By.ID, 'searchboxholdingsid').send_keys('Teste de Software')\n",
    "\n",
    "wait = WebDriverWait(driver, 10)\n",
    "\n",
    "original_window = driver.current_window_handle\n",
    "\n",
    "assert len(driver.window_handles) == 1\n",
    "\n",
    "#clicar no botao\n",
    "driver.find_element(By.CSS_SELECTOR, '#searchformholdingsid button.botao-padrao').click()\n",
    "\n",
    "# Identificar quantas abas estão abertas e saber qual é para está usando\n",
    "wait.until(EC.number_of_windows_to_be(2))\n",
    "\n",
    "# Declaração das variáveis necssárias para o fluxo do programa\n",
    "i = 1\n",
    "qtde_books = 0\n",
    "info = [\"<!DOCTYPE html><html><head><style>table, th, td {border: 1px solid black;}table {width: 100%;}</style></head><body><h2>Relatorio de livros no acervo da PUCMINAS</h2><table><tr><th>TITULO</th><th>LINK</th></tr>\"]\n",
    "\n",
    "# saber qual tela é para está usando\n",
    "for window_handle in driver.window_handles:\n",
    "    if window_handle != original_window:\n",
    "        driver.switch_to.window(window_handle)\n",
    "        break\n",
    "\n",
    "# Condicional para realizar a paginação\n",
    "while i <= 5:\n",
    "\n",
    "    # Seleciono todos os elementos que possuem a class result-list-li\n",
    "    books = wait.until(lambda driver: driver.find_elements(By.CSS_SELECTOR, 'li.result-list-li'))\n",
    "\n",
    "    for book in books:\n",
    "        # Está sendo feito a contagem de livros lidos\n",
    "        qtde_books = qtde_books + 1\n",
    "\n",
    "        # O elemento `a` com a class selector `book-title`\n",
    "        # contém todas as informações que queremos mostrar\n",
    "        book_title = book.find_element(By.CSS_SELECTOR, 'a.title-link')\n",
    "\n",
    "        # `get_attribute` serve para extrair qualquer atributo do elemento\n",
    "        book_link = book_title.get_attribute('href')\n",
    "\n",
    "        # Concatenar informações\n",
    "        s = \"<tr><td>\" + book_title.text + \"</td><td><a href='\" + book_link + \"'>\" + book_link + \"</a></td></tr>\"\n",
    "        \n",
    "        info.append(s)\n",
    "    \n",
    "    # Clica no botão de 'próximo' para seguir para a próxima página da paginação \n",
    "    driver.find_element(By.ID, 'ctl00_ctl00_MainContentArea_MainContentArea_bottomMultiPage_lnkNext').click()\n",
    "\n",
    "    # Incrementando o valor do while para continuar seguindo na paginação\n",
    "    i = i + 1\n",
    "\n",
    "    WebDriverWait(driver, 10)\n",
    "\n",
    "\n",
    "# Finalizado a concatenação dos dados\n",
    "info.append(\"</table><br/>TOTAL DE LIVROS: \" + str(qtde_books) + \"</body></html>\")\n",
    "\n",
    "# Gerar o PDF com os dados coletados\n",
    "pdfkit.from_string(str(info), \"relatorio.pdf\")\n",
    "\n",
    "# Fechar navegador\n",
    "driver.quit()"
   ]
  },
  {
   "cell_type": "code",
   "execution_count": null,
   "id": "e0c4c1e3",
   "metadata": {},
   "outputs": [],
   "source": []
  },
  {
   "cell_type": "code",
   "execution_count": null,
   "id": "85a57695",
   "metadata": {},
   "outputs": [],
   "source": []
  }
 ],
 "metadata": {
  "kernelspec": {
   "display_name": "Python 3",
   "language": "python",
   "name": "python3"
  },
  "language_info": {
   "codemirror_mode": {
    "name": "ipython",
    "version": 3
   },
   "file_extension": ".py",
   "mimetype": "text/x-python",
   "name": "python",
   "nbconvert_exporter": "python",
   "pygments_lexer": "ipython3",
   "version": "3.11.0"
  },
  "vscode": {
   "interpreter": {
    "hash": "c261aea317cc0286b3b3261fbba9abdec21eaa57589985bb7a274bf54d6cc0a7"
   }
  }
 },
 "nbformat": 4,
 "nbformat_minor": 5
}
